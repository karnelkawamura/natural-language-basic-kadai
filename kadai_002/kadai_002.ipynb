{
  "nbformat": 4,
  "nbformat_minor": 0,
  "metadata": {
    "colab": {
      "provenance": []
    },
    "kernelspec": {
      "name": "python3",
      "display_name": "Python 3"
    },
    "language_info": {
      "name": "python"
    }
  },
  "cells": [
    {
      "cell_type": "code",
      "source": [
        "pip install janome"
      ],
      "metadata": {
        "colab": {
          "base_uri": "https://localhost:8080/"
        },
        "id": "ddxgo8o5YtdF",
        "outputId": "68ea44da-781e-4b3b-e5f4-4e9cc4fb1230"
      },
      "execution_count": 22,
      "outputs": [
        {
          "output_type": "stream",
          "name": "stdout",
          "text": [
            "Requirement already satisfied: janome in /usr/local/lib/python3.10/dist-packages (0.5.0)\n"
          ]
        }
      ]
    },
    {
      "cell_type": "code",
      "source": [
        "pip install beautifulsoup4 requests"
      ],
      "metadata": {
        "colab": {
          "base_uri": "https://localhost:8080/"
        },
        "id": "EJjOiqRXY4pO",
        "outputId": "8eeb1993-114c-43fc-c969-b190606664aa"
      },
      "execution_count": 23,
      "outputs": [
        {
          "output_type": "stream",
          "name": "stdout",
          "text": [
            "Requirement already satisfied: beautifulsoup4 in /usr/local/lib/python3.10/dist-packages (4.12.3)\n",
            "Requirement already satisfied: requests in /usr/local/lib/python3.10/dist-packages (2.32.3)\n",
            "Requirement already satisfied: soupsieve>1.2 in /usr/local/lib/python3.10/dist-packages (from beautifulsoup4) (2.6)\n",
            "Requirement already satisfied: charset-normalizer<4,>=2 in /usr/local/lib/python3.10/dist-packages (from requests) (3.4.0)\n",
            "Requirement already satisfied: idna<4,>=2.5 in /usr/local/lib/python3.10/dist-packages (from requests) (3.10)\n",
            "Requirement already satisfied: urllib3<3,>=1.21.1 in /usr/local/lib/python3.10/dist-packages (from requests) (2.2.3)\n",
            "Requirement already satisfied: certifi>=2017.4.17 in /usr/local/lib/python3.10/dist-packages (from requests) (2024.8.30)\n"
          ]
        }
      ]
    },
    {
      "cell_type": "code",
      "source": [
        "import requests\n",
        "from bs4 import BeautifulSoup\n",
        "\n",
        "# 取得したいURL\n",
        "url = \"https://www.aozora.gr.jp/cards/000148/files/2371_13943.html\"\n",
        "\n",
        "# ページの内容を取得\n",
        "response = requests.get(url)\n",
        "response.encoding = 'shift_jis'  # 文字エンコーディングの指定\n",
        "\n",
        "# Beautiful Soupを使ってHTMLを解析\n",
        "soup = BeautifulSoup(response.text, 'html.parser')\n",
        "\n",
        "# 本文部分を抽出\n",
        "main_text = soup.find(\"div\", class_=\"main_text\")\n",
        "text = main_text.get_text()\n",
        "\n",
        "# 結果をファイルに保存\n",
        "with open(\"bundan_no_suusei.txt\", \"w\", encoding=\"utf-8\") as f:\n",
        "    f.write(text)\n",
        "\n",
        "print(\"スクレイピングが完了しました。\")"
      ],
      "metadata": {
        "colab": {
          "base_uri": "https://localhost:8080/"
        },
        "id": "4Z80hchHY8i5",
        "outputId": "5dda792d-cb2e-45bc-b385-e6d2f454b089"
      },
      "execution_count": 24,
      "outputs": [
        {
          "output_type": "stream",
          "name": "stdout",
          "text": [
            "スクレイピングが完了しました。\n"
          ]
        }
      ]
    },
    {
      "cell_type": "code",
      "source": [
        "# スクレイピングで取得したテキストを読み込み\n",
        "with open(\"bundan_no_suusei.txt\", \"r\", encoding=\"utf-8\") as f:\n",
        "    text = f.read()\n",
        "\n",
        "# HTMLタグや改行を削除\n",
        "clean_text = text.replace(\"\\n\", \"\").replace(\"\\r\", \"\")\n",
        "clean_text = clean_text.strip()\n",
        "\n",
        "# 結果をファイルに保存\n",
        "with open(\"bundan_no_suusei_clean.txt\", \"w\", encoding=\"utf-8\") as f:\n",
        "    f.write(clean_text)\n",
        "\n",
        "print(\"HTMLタグや改行の削除が完了しました。\")"
      ],
      "metadata": {
        "colab": {
          "base_uri": "https://localhost:8080/"
        },
        "id": "jPwJKOsUZIpE",
        "outputId": "8bd37b4c-0cba-4f6e-a3cf-4adf6dc37b73"
      },
      "execution_count": 25,
      "outputs": [
        {
          "output_type": "stream",
          "name": "stdout",
          "text": [
            "HTMLタグや改行の削除が完了しました。\n"
          ]
        }
      ]
    },
    {
      "cell_type": "code",
      "source": [
        "from janome.tokenizer import Tokenizer\n",
        "\n",
        "# ストップワードのリスト\n",
        "stop_words = set([\"は\", \"の\", \"に\", \"を\", \"が\", \"と\", \"で\", \"も\", \"を\", \"て\", \"な\", \"だ\", \"し\", \"です\", \"ます\", \"た\", \"ある\", \"する\"])\n",
        "\n",
        "# 最初の1文\n",
        "sentence = \"近頃は大分方々の雑誌から談話をしろしろと責められて、頭ががらん胴になったから、当分品切れの看板でも懸かけたいくらいに思っています。\"\n",
        "\n",
        "# トークナイザーのインスタンスを作成\n",
        "t = Tokenizer()\n",
        "tokens = t.tokenize(sentence)\n",
        "\n",
        "# ストップワードを除去\n",
        "result = []\n",
        "for token in tokens:\n",
        "    if token.surface not in stop_words:\n",
        "        result.append(token.surface)\n",
        "\n",
        "# 結果を表示\n",
        "print(\" \".join(result))"
      ],
      "metadata": {
        "colab": {
          "base_uri": "https://localhost:8080/"
        },
        "id": "CFRUtAktZWZB",
        "outputId": "e5aeeb54-798e-433c-c57f-4fc87accccf3"
      },
      "execution_count": 28,
      "outputs": [
        {
          "output_type": "stream",
          "name": "stdout",
          "text": [
            "近頃 大分 方々 雑誌 から 談話 しろ しろ 責め られ 、 頭 がらん 胴 なっ から 、 当分 品切れ 看板 懸か けたい くらい 思っ い 。\n"
          ]
        }
      ]
    },
    {
      "cell_type": "code",
      "source": [],
      "metadata": {
        "id": "VSWjvwFCcPJc"
      },
      "execution_count": null,
      "outputs": []
    }
  ]
}